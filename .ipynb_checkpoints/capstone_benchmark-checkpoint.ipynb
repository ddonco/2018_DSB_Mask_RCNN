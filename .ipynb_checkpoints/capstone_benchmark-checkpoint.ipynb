{
 "cells": [
  {
   "cell_type": "code",
   "execution_count": 45,
   "metadata": {
    "collapsed": true
   },
   "outputs": [],
   "source": [
    "import os\n",
    "import cv2\n",
    "import numpy as np\n",
    "\n",
    "test_dirs = os.listdir(\"data/stage1_test\")\n",
    "test_filenames=[\"data/stage1_test/\" + file_id + \"/images/\" + file_id + \".png\" for file_id in test_dirs]\n",
    "test_images=[cv2.imread(imagefile) for imagefile in test_filenames]"
   ]
  },
  {
   "cell_type": "code",
   "execution_count": 50,
   "metadata": {
    "collapsed": true
   },
   "outputs": [],
   "source": [
    "def segment_mask(img_rgb):\n",
    "    \n",
    "    # convert color image to gray scale\n",
    "    img_gray = cv2.cvtColor(img_rgb, cv2.COLOR_BGR2GRAY)\n",
    "    \n",
    "    # apply morphology transformation to open gaps between adjascent nuclei by suggesting shapes are ellipses\n",
    "    ellipse = cv2.getStructuringElement(cv2.MORPH_ELLIPSE, (7,7))\n",
    "    img_open = cv2.morphologyEx(img_gray, cv2.MORPH_OPEN, ellipse)\n",
    "    \n",
    "    # use OTSU method of threshholding for bimodal pixel intensity\n",
    "    img_th = cv2.threshold(img_open, 0, 255, cv2.THRESH_OTSU)[1]\n",
    "    \n",
    "    # invert the image if nuclei are dark and background is light i.e. fluorescence microscopy image\n",
    "    if (np.sum(img_th == 255) > np.sum(img_th == 0)):\n",
    "        img_th = cv2.bitwise_not(img_th)\n",
    "    \n",
    "    # perform morphological opening on binary image\n",
    "    img_mask_open = cv2.morphologyEx(img_th, cv2.MORPH_OPEN, ellipse) \n",
    "    \n",
    "    # segment masked nuclei\n",
    "    seg_masks = cv2.connectedComponents(img_mask_open)[1]\n",
    "\n",
    "    return seg_masks"
   ]
  },
  {
   "cell_type": "code",
   "execution_count": 51,
   "metadata": {
    "collapsed": true
   },
   "outputs": [],
   "source": [
    "test_segmented_masks = [segment_mask(img) for img in test_images]"
   ]
  },
  {
   "cell_type": "code",
   "execution_count": 52,
   "metadata": {
    "collapsed": true
   },
   "outputs": [],
   "source": [
    "def rle_encoding(segment_masks):\n",
    "    values = list(np.unique(segment_masks))\n",
    "    values.remove(0)\n",
    "    RLEs = []\n",
    "    for v in values:\n",
    "        dots = np.where(segment_masks.T.flatten() == v)[0]\n",
    "        run_lengths = []\n",
    "        prev = -2\n",
    "        for b in dots:\n",
    "            if (b > prev + 1):\n",
    "                run_lengths.extend((b + 1, 0))\n",
    "            run_lengths[-1] += 1\n",
    "            prev = b\n",
    "        RLEs.append(run_lengths)\n",
    "    return RLEs\n",
    "\n",
    "test_RLEs = [rle_encoding(segmented_img) for segmented_img in test_segmented_masks]"
   ]
  },
  {
   "cell_type": "code",
   "execution_count": 53,
   "metadata": {
    "collapsed": true
   },
   "outputs": [],
   "source": [
    "with open(\"benchmark_model.csv\", \"a\") as myfile:\n",
    "    myfile.write(\"ImageId,EncodedPixels\\n\")\n",
    "    for i, RLEs in enumerate(test_RLEs):\n",
    "        for RLE in RLEs:\n",
    "            myfile.write(test_dirs[i] + \",\" + \" \".join([str(i) for i in RLE]) + \"\\n\")"
   ]
  }
 ],
 "metadata": {
  "kernelspec": {
   "display_name": "Python 3",
   "language": "python",
   "name": "python3"
  },
  "language_info": {
   "codemirror_mode": {
    "name": "ipython",
    "version": 3
   },
   "file_extension": ".py",
   "mimetype": "text/x-python",
   "name": "python",
   "nbconvert_exporter": "python",
   "pygments_lexer": "ipython3",
   "version": "3.6.3"
  }
 },
 "nbformat": 4,
 "nbformat_minor": 2
}
