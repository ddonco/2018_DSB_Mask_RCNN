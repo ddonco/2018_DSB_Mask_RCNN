{
 "cells": [
  {
   "cell_type": "code",
   "execution_count": 27,
   "metadata": {
    "collapsed": true
   },
   "outputs": [],
   "source": [
    "import os\n",
    "import sys\n",
    "import csv\n",
    "import numpy as np\n",
    "import pandas as pd\n",
    "import cv2\n",
    "import matplotlib\n",
    "import matplotlib.pyplot as plt\n",
    "from tqdm import tqdm\n",
    "from skimage.io import imread, imshow, imread_collection, concatenate_images\n",
    "from scipy.ndimage.morphology import binary_fill_holes\n",
    "\n",
    "from config import Config\n",
    "import utils"
   ]
  },
  {
   "cell_type": "code",
   "execution_count": 28,
   "metadata": {
    "collapsed": true
   },
   "outputs": [],
   "source": [
    "test_path = '../data/stage1_test_solutions/stage1_test/'\n",
    "\n",
    "# Get test IDs\n",
    "test_ids = next(os.walk(test_path))[1]"
   ]
  },
  {
   "cell_type": "code",
   "execution_count": 29,
   "metadata": {
    "collapsed": true
   },
   "outputs": [],
   "source": [
    "df_submission = pd.read_csv('output/mask-rcnn_resnet101_20e_grid21_step8.csv')\n",
    "df_labels = pd.read_csv('../data/stage1_solution.csv')"
   ]
  },
  {
   "cell_type": "code",
   "execution_count": 30,
   "metadata": {
    "collapsed": true
   },
   "outputs": [],
   "source": [
    "class NucleiDataset(utils.Dataset):\n",
    "\n",
    "    def load_image(self, image_id):\n",
    "        image = imread(self.image_info[image_id]['path'])[:, :, :3]\n",
    "        return image\n",
    "\n",
    "    def load_mask(self, image_id):\n",
    "        info = self.image_info[image_id]\n",
    "        image_path = info['path']\n",
    "        mask_path = image_path[:image_path.find('/images/')]\n",
    "        mask_dir = os.path.join(mask_path, 'masks')\n",
    "        mask_names = os.listdir(mask_dir)\n",
    "        count = len(mask_names)\n",
    "        mask = []\n",
    "        for i, el in enumerate(mask_names):\n",
    "            msk_path = os.path.join(mask_dir, el)\n",
    "            msk = imread(msk_path)\n",
    "            if np.sum(msk) == 0:\n",
    "                print('invalid mask')\n",
    "                continue\n",
    "            msk = msk.astype('float32')/255.\n",
    "            mask.append(msk)\n",
    "        mask = np.asarray(mask)\n",
    "        mask[mask > 0.] = 1.\n",
    "        mask = np.transpose(mask, (1,2,0))\n",
    "        occlusion = np.logical_not(mask[:, :, -1]).astype(np.uint8)\n",
    "        count = mask.shape[2]\n",
    "        for i in range(count-2, -1, -1):\n",
    "            mask[:, :, i] = mask[:, :, i] * occlusion\n",
    "            mask[:, :, i] = binary_fill_holes(mask[:, :, i])\n",
    "            occlusion = np.logical_and(occlusion, np.logical_not(mask[:, :, i]))\n",
    "        class_ids = [self.class_names.index('nucleus') for s in range(count)]\n",
    "        class_ids = np.asarray(class_ids)\n",
    "        return mask, class_ids.astype(np.int32)"
   ]
  },
  {
   "cell_type": "code",
   "execution_count": 31,
   "metadata": {},
   "outputs": [
    {
     "name": "stdout",
     "output_type": "stream",
     "text": [
      "Getting and resizing test images ... \n"
     ]
    },
    {
     "name": "stderr",
     "output_type": "stream",
     "text": [
      "100%|██████████| 65/65 [00:00<00:00, 177608.96it/s]\n"
     ]
    }
   ],
   "source": [
    "dataset_test = NucleiDataset()\n",
    "\n",
    "dataset_test.add_class(\"stage1_train\", 1, \"nucleus\")\n",
    "\n",
    "# Get and resize test images\n",
    "print('Getting and resizing test images ... ')\n",
    "sys.stdout.flush()\n",
    "for n, id_ in tqdm(enumerate(test_ids), total=len(test_ids)):\n",
    "    path = test_path + id_\n",
    "    img_path = path + '/images/' + id_ + '.png'\n",
    "    dataset_test.add_image('stage1_test', id_, img_path)\n",
    "\n",
    "\n",
    "dataset_test.prepare()"
   ]
  },
  {
   "cell_type": "code",
   "execution_count": 32,
   "metadata": {
    "collapsed": true
   },
   "outputs": [],
   "source": [
    "# Borrowed from https://www.kaggle.com/c/data-science-bowl-2018/discussion/51563#304986\n",
    "def run_length_decode(rle, H, W, fill_value=1):\n",
    "    mask = np.zeros((H * W), np.uint8)\n",
    "    rle = rle[1:-1]\n",
    "    rle = np.array([int(s) for s in rle.split(', ')]).reshape(-1, 2)\n",
    "\n",
    "    for r in rle:\n",
    "        start = r[0]-1\n",
    "        end = start + r[1]\n",
    "        mask[start : end] = fill_value\n",
    "    mask = mask.reshape(W, H).T # H, W need to swap as transposing.\n",
    "    return mask"
   ]
  },
  {
   "cell_type": "code",
   "execution_count": 33,
   "metadata": {
    "collapsed": true
   },
   "outputs": [],
   "source": [
    "def select_rows(df, image_id):\n",
    "    return df.loc[df['ImageId'] == image_id]"
   ]
  },
  {
   "cell_type": "code",
   "execution_count": 34,
   "metadata": {},
   "outputs": [
    {
     "name": "stderr",
     "output_type": "stream",
     "text": [
      "100%|██████████| 65/65 [00:32<00:00,  1.98it/s]\n"
     ]
    }
   ],
   "source": [
    "preds_labels_alt = []\n",
    "for test_id in tqdm(dataset_test.image_ids, total=len(dataset_test.image_ids)):\n",
    "    test_image = dataset_test.load_image(test_id)\n",
    "    test_mask = dataset_test.load_mask(test_id)\n",
    "    image_shape = test_image.shape\n",
    "    \n",
    "    df_mask = select_rows(df_submission, dataset_test.image_info[test_id]['id'])\n",
    "    pred = []\n",
    "    for i, mask in df_mask.iterrows():\n",
    "        pred_slice = run_length_decode(mask['EncodedPixels'], image_shape[0], image_shape[1])\n",
    "        pred.append(pred_slice)\n",
    "\n",
    "    pred = np.transpose(pred, (1, 2, 0))\n",
    "    preds_labels_alt.append((pred, test_mask[0]))"
   ]
  },
  {
   "cell_type": "code",
   "execution_count": 35,
   "metadata": {},
   "outputs": [
    {
     "name": "stderr",
     "output_type": "stream",
     "text": [
      "100%|██████████| 65/65 [00:00<00:00, 137.24it/s]\n"
     ]
    }
   ],
   "source": [
    "labels_list = []\n",
    "preds_list = []\n",
    "for image in tqdm(preds_labels_alt, total=len(preds_labels_alt)):\n",
    "    preds_shape = image[0].shape\n",
    "    labels_shape = image[1].shape\n",
    "    preds = np.zeros((preds_shape[0], preds_shape[1]), np.uint16)\n",
    "    labels = np.zeros((labels_shape[0], labels_shape[1]), np.uint16)\n",
    "    \n",
    "    for i in range(preds_shape[2] - 1):\n",
    "        preds[image[0][:,:,i] > 0] = i + 1\n",
    "    for j in range(labels_shape[2] - 1):\n",
    "        labels[image[1][:,:,j] > 0] = j + 1\n",
    "        \n",
    "    preds_list.append(preds)\n",
    "    labels_list.append(labels)"
   ]
  },
  {
   "cell_type": "code",
   "execution_count": 36,
   "metadata": {},
   "outputs": [
    {
     "data": {
      "image/png": "[encoded data removed]",
      "text/plain": [
       "<matplotlib.figure.Figure at 0x7f61bb631b38>"
      ]
     },
     "metadata": {},
     "output_type": "display_data"
    }
   ],
   "source": [
    "fig = plt.figure(figsize=(15,15))\n",
    "image_id = 9\n",
    "\n",
    "original_image = dataset_test.load_image(image_id)\n",
    "\n",
    "plt.subplot(131)\n",
    "plt.title('Original')\n",
    "#plt.axis('off')\n",
    "plt.imshow(original_image)\n",
    "\n",
    "plt.subplot(132)\n",
    "plt.title('Ground Truth')\n",
    "#plt.axis('off')\n",
    "plt.imshow(labels_list[image_id])\n",
    "\n",
    "plt.subplot(133)\n",
    "plt.title('Predictions')\n",
    "#plt.axis('off')\n",
    "plt.imshow(preds_list[image_id])\n",
    "\n",
    "plt.show()"
   ]
  },
  {
   "cell_type": "code",
   "execution_count": 37,
   "metadata": {
    "collapsed": true
   },
   "outputs": [],
   "source": [
    "# Calculate average precision for image predictions\n",
    "# Borrowed from https://www.kaggle.com/thomasjpfan/ap-metric\n",
    "def ap(y_true, y_pred):\n",
    "    # remove one for background\n",
    "    num_true = len(np.unique(y_true)) - 1\n",
    "    num_pred = len(np.unique(y_pred)) - 1\n",
    "    #print(\"Number true objects:\", num_true)\n",
    "    #print(\"Number predicted objects:\", num_pred)\n",
    "    \n",
    "    if num_true == 0 and num_pred == 0:\n",
    "        return 1\n",
    "    elif num_true == 0 or num_pred == 0:\n",
    "        return 0\n",
    "    \n",
    "    # bin size + 1 for background\n",
    "    intersect = np.histogram2d(\n",
    "        y_true.flatten(), y_pred.flatten(), bins=(num_true+1, num_pred+1))[0]\n",
    "    \n",
    "    area_t = np.histogram(y_true, bins=(num_true+1))[0][:, np.newaxis]\n",
    "    area_p = np.histogram(y_pred, bins=(num_pred+1))[0][np.newaxis, :]\n",
    "    \n",
    "    # get rid of background\n",
    "    union = area_t + area_p - intersect\n",
    "    intersect = intersect[1:, 1:]\n",
    "    union = union[1:, 1:]\n",
    "    iou = intersect / union \n",
    "    \n",
    "    threshold = np.arange(0.5, 1.0, 0.05)[np.newaxis, np.newaxis, :]\n",
    "    matches = iou[:,:, np.newaxis] > threshold\n",
    "    \n",
    "    tp = np.sum(matches, axis=(0,1))\n",
    "    fp = num_true - tp\n",
    "    fn = num_pred - tp\n",
    "    \n",
    "    return np.mean(tp/(tp+fp+fn))"
   ]
  },
  {
   "cell_type": "code",
   "execution_count": 38,
   "metadata": {
    "collapsed": true
   },
   "outputs": [],
   "source": [
    "predictions_ap = [ap(img[0], img[1]) for img in zip(labels_list, preds_list)]\n",
    "mean_ap = np.mean(predictions_ap)"
   ]
  },
  {
   "cell_type": "code",
   "execution_count": 39,
   "metadata": {},
   "outputs": [
    {
     "name": "stdout",
     "output_type": "stream",
     "text": [
      "MaP for test predictions: 0.433\n"
     ]
    }
   ],
   "source": [
    "print(\"MaP for test predictions: {:.3f}\".format(mean_ap))"
   ]
  },
  {
   "cell_type": "code",
   "execution_count": null,
   "metadata": {
    "collapsed": true
   },
   "outputs": [],
   "source": []
  }
 ],
 "metadata": {
  "kernelspec": {
   "display_name": "Python 3",
   "language": "python",
   "name": "python3"
  },
  "language_info": {
   "codemirror_mode": {
    "name": "ipython",
    "version": 3
   },
   "file_extension": ".py",
   "mimetype": "text/x-python",
   "name": "python",
   "nbconvert_exporter": "python",
   "pygments_lexer": "ipython3",
   "version": "3.6.3"
  }
 },
 "nbformat": 4,
 "nbformat_minor": 2
}
